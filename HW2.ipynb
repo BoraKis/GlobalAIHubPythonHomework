{
 "cells": [
  {
   "cell_type": "code",
   "execution_count": 6,
   "metadata": {},
   "outputs": [
    {
     "name": "stdin",
     "output_type": "stream",
     "text": [
      "Please enter your name:  Bora\n",
      "Please enter your surname:  KIŞ\n",
      "Please enter your age:  22\n",
      "Please only enter your of birth:  1998\n"
     ]
    },
    {
     "name": "stdout",
     "output_type": "stream",
     "text": [
      "Bora\n",
      "KIŞ\n",
      "22\n",
      "1998\n",
      "You can go out to the street.\n"
     ]
    }
   ],
   "source": [
    "#Introduction to Python Programming – 8 - Homework 2 - Bora KIŞ\n",
    "\n",
    "#Create a list and entering information by the user (input function)\n",
    "\n",
    "personal_information = [] #Create a list\n",
    "person_name = input(\"Please enter your name: \")\n",
    "person_surname = input(\"Please enter your surname: \")\n",
    "person_age = int(input(\"Please enter your age: \"))\n",
    "person_dateofbirth = int(input(\"Please only enter your of birth: \"))\n",
    "\n",
    "#Using the append function, the data entered by the user is printed into the list.\n",
    "personal_information.append(person_name)\n",
    "personal_information.append(person_surname)\n",
    "personal_information.append(person_age)\n",
    "personal_information.append(person_dateofbirth)\n",
    "\n",
    "#These values are returned using the for loop.\n",
    "for person in personal_information:\n",
    "    print(person)\n",
    "    \n",
    "    \n",
    "#Then, the if-else construct is used to create the conditional condition requested from us.\n",
    "if (person_age < 18):\n",
    "    print(\"You can't go out because it's too dangerous\")\n",
    "else:\n",
    "    print(\"You can go out to the street.\")"
   ]
  },
  {
   "cell_type": "code",
   "execution_count": null,
   "metadata": {},
   "outputs": [],
   "source": []
  }
 ],
 "metadata": {
  "kernelspec": {
   "display_name": "Python 3",
   "language": "python",
   "name": "python3"
  },
  "language_info": {
   "codemirror_mode": {
    "name": "ipython",
    "version": 3
   },
   "file_extension": ".py",
   "mimetype": "text/x-python",
   "name": "python",
   "nbconvert_exporter": "python",
   "pygments_lexer": "ipython3",
   "version": "3.7.7"
  }
 },
 "nbformat": 4,
 "nbformat_minor": 4
}