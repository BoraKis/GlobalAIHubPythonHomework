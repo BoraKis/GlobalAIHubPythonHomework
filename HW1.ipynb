{
 "cells": [
  {
   "cell_type": "code",
   "execution_count": 2,
   "metadata": {},
   "outputs": [
    {
     "name": "stdin",
     "output_type": "stream",
     "text": [
      "Please enter your name...:  Bora\n",
      "Please enter your surname...:  KIŞ\n",
      "Please enter your age...:  22\n",
      "Please enter your weight...:  80.5\n",
      "Please enter your height...:  185\n"
     ]
    },
    {
     "name": "stdout",
     "output_type": "stream",
     "text": [
      "My name is Bora!\n",
      "My surname is KIŞ!\n",
      "My age is 22!\n",
      "My weight is 80.5!\n",
      "My height is 185!\n"
     ]
    }
   ],
   "source": [
    "#Introduction to Python Programming – 8 - Homework 1 - Bora KIŞ\n",
    "\n",
    "#Personal information entered by the user using the input function\n",
    "\n",
    "name = input(\"Please enter your name...: \") #String\n",
    "surname = input(\"Please enter your surname...: \") #String\n",
    "age = int(input(\"Please enter your age...: \")) #int\n",
    "weight = float(input(\"Please enter your weight...: \")) #float\n",
    "height = int(input(\"Please enter your height...: \")) #int\n",
    "\n",
    "#Printing the information entered by the user on the screen with the f-string method\n",
    "print(f'My name is {name}!')\n",
    "print(f'My surname is {surname}!')\n",
    "print(f'My age is {age}!')\n",
    "print(f'My weight is {weight}!')\n",
    "print(f'My height is {height}!')"
   ]
  },
  {
   "cell_type": "code",
   "execution_count": null,
   "metadata": {},
   "outputs": [],
   "source": []
  },
  {
   "cell_type": "code",
   "execution_count": null,
   "metadata": {},
   "outputs": [],
   "source": []
  }
 ],
 "metadata": {
  "kernelspec": {
   "display_name": "Python 3",
   "language": "python",
   "name": "python3"
  },
  "language_info": {
   "codemirror_mode": {
    "name": "ipython",
    "version": 3
   },
   "file_extension": ".py",
   "mimetype": "text/x-python",
   "name": "python",
   "nbconvert_exporter": "python",
   "pygments_lexer": "ipython3",
   "version": "3.7.7"
  },
  "toc-autonumbering": false,
  "toc-showcode": true
 },
 "nbformat": 4,
 "nbformat_minor": 4
}
